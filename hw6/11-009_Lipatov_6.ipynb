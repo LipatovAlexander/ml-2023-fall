{
 "cells": [
  {
   "cell_type": "markdown",
   "metadata": {},
   "source": [
    "## ДЗ 1"
   ]
  },
  {
   "cell_type": "code",
   "execution_count": 1,
   "metadata": {},
   "outputs": [],
   "source": [
    "import numpy as np\n",
    "import pandas as pd\n",
    "import seaborn as sns\n",
    "import matplotlib.pyplot as plt\n",
    "from matplotlib.colors import ListedColormap\n",
    "\n",
    "from sklearn.model_selection import train_test_split # разбиение данных на тренировочные и тестовые\n",
    "\n",
    "from sklearn.compose import ColumnTransformer # преобразование столбцов\n",
    "from sklearn.preprocessing import OneHotEncoder # кодирование категориальных переменных\n",
    "from sklearn.preprocessing import LabelEncoder\n",
    "\n",
    "from sklearn.preprocessing import StandardScaler # нормализация и масштабирование данных\n",
    "\n",
    "from sklearn.linear_model import LogisticRegression # логистическая регрессия\n",
    "from sklearn.neighbors import KNeighborsClassifier # k-ближайших новых соседей\n",
    "from sklearn.svm import SVC # SVM для классификации\n",
    "from sklearn.naive_bayes import GaussianNB # Naive bayes\n",
    "from sklearn.tree import DecisionTreeClassifier, export_graphviz # Дерево Решений\n",
    "from sklearn.ensemble import RandomForestClassifier  # Random Forest\n",
    "\n",
    "\n",
    "from sklearn.tree import plot_tree # отрисовка дерева\n",
    "\n",
    "from sklearn.metrics import confusion_matrix, accuracy_score, ConfusionMatrixDisplay\n",
    "\n",
    "from sklearn.model_selection import cross_val_score # кроссвалидация\n",
    "from sklearn.model_selection import GridSearchCV # подбор гиперпараметров с кроссвалидацией"
   ]
  },
  {
   "cell_type": "markdown",
   "metadata": {},
   "source": [
    "### Шаг 1: Разведочный анализ данных (Exploratory Data Analysis, EDA)"
   ]
  },
  {
   "cell_type": "code",
   "execution_count": 14,
   "metadata": {},
   "outputs": [
    {
     "name": "stderr",
     "output_type": "stream",
     "text": [
      "C:\\Users\\pc\\AppData\\Local\\Temp\\ipykernel_16144\\2166609352.py:7: FutureWarning: Dropping of nuisance columns in DataFrame reductions (with 'numeric_only=None') is deprecated; in a future version this will raise TypeError.  Select only valid columns before calling the reduction.\n",
      "  data.fillna(data.mean(), inplace=True)\n",
      "C:\\Users\\pc\\AppData\\Local\\Temp\\ipykernel_16144\\2166609352.py:8: FutureWarning: Dropping of nuisance columns in DataFrame reductions (with 'numeric_only=None') is deprecated; in a future version this will raise TypeError.  Select only valid columns before calling the reduction.\n",
      "  data_test.fillna(data_test.mean(), inplace=True)\n"
     ]
    }
   ],
   "source": [
    "names = ['Age', 'Workclass', 'fnlwgt', 'Education', 'Education_Num', 'Martial_Status', 'Occupation',\n",
    "         'Relationship', 'Race', 'Sex', 'Capital_Gain', 'Capital_Loss', 'Hours_per_week', 'Country', 'Target']\n",
    "\n",
    "data = pd.read_csv('adult.data', header=None, names=names, na_values=\"?\", skipinitialspace=True)\n",
    "data_test = pd.read_csv('adult.data', header=None, names=names, na_values=\"?\", skipinitialspace=True)\n",
    "\n",
    "data.fillna(data.mean(), inplace=True)\n",
    "data_test.fillna(data_test.mean(), inplace=True)\n",
    "\n",
    "data = pd.get_dummies(data, columns=['Workclass', 'Education', 'Martial_Status', 'Occupation',\n",
    "                                     'Relationship', 'Race', 'Sex', 'Country'])\n",
    "data_test = pd.get_dummies(data_test, columns=['Workclass', 'Education', 'Martial_Status', 'Occupation',\n",
    "                                     'Relationship', 'Race', 'Sex', 'Country'])\n",
    "\n",
    "X_train = data.drop('Target', axis=1)\n",
    "y_train = data['Target']\n",
    "\n",
    "X_test = data_test.drop('Target', axis=1)\n",
    "y_test = data_test['Target']\n",
    "\n",
    "X_train = X_train.drop('Country_Holand-Netherlands', axis=1)\n",
    "X_test = X_test.drop('Country_Holand-Netherlands', axis=1)\n",
    "\n",
    "scaler = StandardScaler()\n",
    "X_train_scaled = scaler.fit_transform(X_train)\n",
    "X_test_scaled = scaler.transform(X_test)"
   ]
  },
  {
   "cell_type": "markdown",
   "metadata": {},
   "source": [
    "### Шаг 2: Создание признака для Голландии в тестовой выборке"
   ]
  },
  {
   "cell_type": "code",
   "execution_count": 15,
   "metadata": {},
   "outputs": [],
   "source": [
    "data['Country_Holland'] = 0\n",
    "data_test['Country_Holland'] = 0"
   ]
  },
  {
   "cell_type": "markdown",
   "metadata": {},
   "source": [
    "### Шаг 3: Обучение Logistic Regression (baseline)"
   ]
  },
  {
   "cell_type": "code",
   "execution_count": 16,
   "metadata": {},
   "outputs": [
    {
     "name": "stdout",
     "output_type": "stream",
     "text": [
      "Accuracy Logistic Regression: 0.8533521697736556\n"
     ]
    }
   ],
   "source": [
    "# Обучение Logistic Regression\n",
    "logreg = LogisticRegression()\n",
    "logreg.fit(X_train_scaled, y_train)\n",
    "\n",
    "# Оценка модели\n",
    "test_score = logreg.score(X_test_scaled, y_test)\n",
    "y_pred_logreg = logreg.predict(X_test_scaled)\n",
    "print(\"Accuracy Logistic Regression:\", accuracy_score(y_test, y_pred_logreg))"
   ]
  },
  {
   "cell_type": "markdown",
   "metadata": {},
   "source": [
    "### Шаг 4-7: Обучение других моделей"
   ]
  },
  {
   "cell_type": "code",
   "execution_count": null,
   "metadata": {},
   "outputs": [],
   "source": [
    "knn = KNeighborsClassifier()\n",
    "knn.fit(X_train_scaled, y_train)\n",
    "\n",
    "svc = SVC()\n",
    "svc.fit(X_train_scaled, y_train)\n",
    "\n",
    "nb = GaussianNB()\n",
    "nb.fit(X_train_scaled, y_train)\n",
    "\n",
    "tree = DecisionTreeClassifier()\n",
    "tree.fit(X_train_scaled, y_train)\n",
    "\n",
    "forest = RandomForestClassifier()\n",
    "forest.fit(X_train_scaled, y_train)"
   ]
  },
  {
   "cell_type": "markdown",
   "metadata": {},
   "source": [
    "### Шаг 5: Обучение SVC с GridSearchCV"
   ]
  },
  {
   "cell_type": "code",
   "execution_count": 18,
   "metadata": {},
   "outputs": [
    {
     "name": "stderr",
     "output_type": "stream",
     "text": [
      "C:\\Users\\pc\\AppData\\Local\\Packages\\PythonSoftwareFoundation.Python.3.10_qbz5n2kfra8p0\\LocalCache\\local-packages\\Python310\\site-packages\\sklearn\\svm\\_base.py:301: ConvergenceWarning: Solver terminated early (max_iter=1000).  Consider pre-processing your data with StandardScaler or MinMaxScaler.\n",
      "  warnings.warn(\n"
     ]
    }
   ],
   "source": [
    "svc_params = {'gamma':[0.001, 0.01, 0.1, 1, 10, 100], 'C': [0.001, 0.01, 0.1, 1, 10, 100], 'max_iter':[50, 100, 200, 500, 1000]}\n",
    "svc_grid = GridSearchCV(svc, svc_params, n_jobs=-1, cv=3)\n",
    "svc_grid.fit(X_train_scaled, y_train)\n",
    "best_svc = svc_grid.best_estimator_"
   ]
  },
  {
   "cell_type": "markdown",
   "metadata": {},
   "source": [
    "### Шаг 6: Обучение Decision Tree с GridSearchCV"
   ]
  },
  {
   "cell_type": "code",
   "execution_count": 19,
   "metadata": {},
   "outputs": [],
   "source": [
    "tree_params = {'max_depth': range(2, 11)}\n",
    "tree_grid = GridSearchCV(tree, tree_params, n_jobs=-1, cv=5)\n",
    "tree_grid.fit(X_train_scaled, y_train)\n",
    "best_tree = tree_grid.best_estimator_"
   ]
  },
  {
   "cell_type": "markdown",
   "metadata": {},
   "source": [
    "### Шаг 7: Обучение Random Forest с GridSearchCV"
   ]
  },
  {
   "cell_type": "code",
   "execution_count": 23,
   "metadata": {},
   "outputs": [],
   "source": [
    "forest_params = {'max_depth': range(10, 21, 2), 'max_features': range(5, 105, 20)}\n",
    "forest_grid = GridSearchCV(forest, forest_params, n_jobs=-1, cv=3)\n",
    "forest_grid.fit(X_train_scaled, y_train)\n",
    "best_forest = forest_grid.best_estimator_"
   ]
  },
  {
   "cell_type": "markdown",
   "metadata": {},
   "source": [
    "### Шаг 9: Сравнение всех моделей с baseline"
   ]
  },
  {
   "cell_type": "code",
   "execution_count": 24,
   "metadata": {},
   "outputs": [
    {
     "name": "stdout",
     "output_type": "stream",
     "text": [
      "Accuracy Logistic Regression: 0.8533521697736556\n",
      "Accuracy k-NN: 0.8764165719726053\n",
      "Accuracy SVC: 0.8631491661803998\n",
      "Accuracy Naive Bayes: 0.5285771321519609\n",
      "Accuracy Decision Tree: 0.9999692884125181\n",
      "Accuracy Random Forest: 0.9999692884125181\n",
      "Accuracy Best SVC: 0.7822548447529253\n",
      "Accuracy Best Decision Tree: 0.8639783790424127\n",
      "Accuracy Best Random Forest: 0.9018150548201836\n"
     ]
    }
   ],
   "source": [
    "models = [logreg, knn, svc, nb, tree, forest, best_svc, best_tree, best_forest]\n",
    "model_names = ['Logistic Regression', 'k-NN', 'SVC', 'Naive Bayes', 'Decision Tree', 'Random Forest', 'Best SVC', 'Best Decision Tree', 'Best Random Forest']\n",
    "\n",
    "for model, name in zip(models, model_names):\n",
    "    y_pred = model.predict(X_test_scaled)\n",
    "    acc = accuracy_score(y_test, y_pred)\n",
    "    print(f\"Accuracy {name}: {acc}\")"
   ]
  },
  {
   "cell_type": "markdown",
   "metadata": {},
   "source": [
    "### Шаг 10: Вывод confusion matrix"
   ]
  },
  {
   "cell_type": "code",
   "execution_count": 25,
   "metadata": {},
   "outputs": [
    {
     "name": "stdout",
     "output_type": "stream",
     "text": [
      "Confusion Matrix Logistic Regression:\n",
      "[[23039  1681]\n",
      " [ 3094  4747]]\n"
     ]
    }
   ],
   "source": [
    "conf_matrix_logreg = confusion_matrix(y_test, y_pred_logreg)\n",
    "print(\"Confusion Matrix Logistic Regression:\")\n",
    "print(conf_matrix_logreg)"
   ]
  },
  {
   "cell_type": "markdown",
   "metadata": {},
   "source": [
    "## ДЗ 2"
   ]
  },
  {
   "cell_type": "markdown",
   "metadata": {},
   "source": [
    "### Шаг 1: Разбиение датасета digits на обучающую и тестовую выборку"
   ]
  },
  {
   "cell_type": "code",
   "execution_count": 26,
   "metadata": {},
   "outputs": [],
   "source": [
    "from sklearn.datasets import load_digits\n",
    "from sklearn.model_selection import train_test_split\n",
    "\n",
    "# Загрузка датасета\n",
    "digits = load_digits()\n",
    "X = digits.data\n",
    "y = digits.target\n",
    "\n",
    "# Разделение на обучающую и тестовую выборку\n",
    "X_train, X_test, y_train, y_test = train_test_split(X, y, test_size=0.15, random_state=42)"
   ]
  },
  {
   "cell_type": "markdown",
   "metadata": {},
   "source": [
    "### Шаг 2: Поиск лучшего классификатора и параметров"
   ]
  },
  {
   "cell_type": "code",
   "execution_count": 27,
   "metadata": {},
   "outputs": [
    {
     "name": "stdout",
     "output_type": "stream",
     "text": [
      "Лучшие параметры: {'C': 0.1, 'gamma': 0.001, 'kernel': 'poly'}\n"
     ]
    }
   ],
   "source": [
    "from sklearn.svm import SVC\n",
    "from sklearn.model_selection import GridSearchCV\n",
    "\n",
    "svm = SVC()\n",
    "\n",
    "param_grid = {'C': [0.1, 1, 10, 100], 'gamma': [0.001, 0.01, 0.1, 1], 'kernel': ['linear', 'rbf', 'poly']}\n",
    "\n",
    "grid_search = GridSearchCV(svm, param_grid, cv=5, scoring='accuracy', n_jobs=-1)\n",
    "\n",
    "grid_search.fit(X_train, y_train)\n",
    "\n",
    "best_params = grid_search.best_params_\n",
    "print(\"Лучшие параметры:\", best_params)\n",
    "\n",
    "best_classifier = grid_search.best_estimator_"
   ]
  },
  {
   "cell_type": "markdown",
   "metadata": {},
   "source": [
    "### Шаг 3: Вывод матрицы несоответствия"
   ]
  },
  {
   "cell_type": "code",
   "execution_count": 28,
   "metadata": {},
   "outputs": [
    {
     "name": "stdout",
     "output_type": "stream",
     "text": [
      "Матрица несоответствия:\n",
      "[[23  0  0  0  0  0  0  0  0  0]\n",
      " [ 0 18  0  0  0  0  0  0  0  0]\n",
      " [ 0  0 26  0  0  0  0  0  0  0]\n",
      " [ 0  0  0 24  0  0  0  0  0  0]\n",
      " [ 0  0  0  0 37  0  0  0  0  0]\n",
      " [ 0  0  0  0  0 33  0  0  0  0]\n",
      " [ 0  0  0  0  0  0 30  0  0  0]\n",
      " [ 0  0  0  0  0  0  0 25  0  1]\n",
      " [ 0  0  0  0  0  0  0  0 19  0]\n",
      " [ 0  0  0  0  0  0  0  1  0 33]]\n"
     ]
    }
   ],
   "source": [
    "from sklearn.metrics import confusion_matrix\n",
    "\n",
    "# Предсказание на тестовой выборке\n",
    "y_pred = best_classifier.predict(X_test)\n",
    "\n",
    "# Вывод матрицы несоответствия\n",
    "conf_matrix = confusion_matrix(y_test, y_pred)\n",
    "print(\"Матрица несоответствия:\")\n",
    "print(conf_matrix)"
   ]
  }
 ],
 "metadata": {
  "kernelspec": {
   "display_name": "Python 3",
   "language": "python",
   "name": "python3"
  },
  "language_info": {
   "codemirror_mode": {
    "name": "ipython",
    "version": 3
   },
   "file_extension": ".py",
   "mimetype": "text/x-python",
   "name": "python",
   "nbconvert_exporter": "python",
   "pygments_lexer": "ipython3",
   "version": "3.10.11"
  }
 },
 "nbformat": 4,
 "nbformat_minor": 2
}
